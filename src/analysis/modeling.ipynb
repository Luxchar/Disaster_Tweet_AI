{
 "cells": [
  {
   "cell_type": "markdown",
   "id": "fe92fee9",
   "metadata": {},
   "source": [
    "# Partie 3 – Modélisation et Évaluation\n",
    "\n",
    "## Objectifs\n",
    "\n",
    "Ce notebook vise à construire et évaluer un modèle de classification pour la détection de tweets liés aux catastrophes.\n",
    "\n",
    "### 📋 Tâches principales\n",
    "\n",
    "- **Pipeline complet** : Construire un pipeline incluant vectorisation + modèle\n",
    "- **Évaluation des performances** : Mesurer et analyser les performances du modèle\n",
    "\n",
    "### 🔧 Outils et techniques à utiliser\n",
    "\n",
    "#### Vectorisation\n",
    "- `TfidfVectorizer` ou `CountVectorizer` \n",
    "- `Word2Vec` pour les embeddings\n",
    "\n",
    "#### Modèles de classification\n",
    "- Logistic Regression\n",
    "- SVM (Support Vector Machine)\n",
    "- Autres modèles selon les besoins\n",
    "\n",
    "#### Framework\n",
    "- Pipeline avec `scikit-learn`\n",
    "- `train_test_split` ou `cross_val_score` pour la validation\n",
    "\n",
    "### 📊 Métriques d'évaluation\n",
    "\n",
    "- **Accuracy** : Précision globale\n",
    "- **Precision** : Précision par classe\n",
    "- **Recall** : Rappel par classe  \n",
    "- **F1-score** : Moyenne harmonique de precision et recall\n",
    "\n",
    "### ✅ Tests de validation\n",
    "\n",
    "- [ ] Vérifier que le pipeline s'entraîne sans erreur sur un jeu d'exemple\n",
    "- [ ] Vérifier la forme des prédictions\n",
    "- [ ] Vérifier que les métriques sont retournées correctement\n",
    "- [ ] Tester le comportement sur texte vide ou très court"
   ]
  },
  {
   "cell_type": "code",
   "execution_count": null,
   "id": "7be54111",
   "metadata": {
    "vscode": {
     "languageId": "plaintext"
    }
   },
   "outputs": [],
   "source": []
  }
 ],
 "metadata": {
  "language_info": {
   "name": "python"
  }
 },
 "nbformat": 4,
 "nbformat_minor": 5
}
