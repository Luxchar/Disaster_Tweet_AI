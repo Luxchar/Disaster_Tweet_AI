{
 "cells": [
  {
   "cell_type": "markdown",
   "id": "35e3a9d0",
   "metadata": {},
   "source": [
    "# Partie 1 – Exploratory Data Analysis (EDA)\n",
    "\n",
    "## Objectifs\n",
    "\n",
    "- Comprendre la forme et le contenu du dataset\n",
    "- Identifier les anomalies, les valeurs aberrantes ou manquantes\n",
    "- Analyser la distribution des textes et des classes\n",
    "\n",
    "## Questions à traiter\n",
    "\n",
    "### Structure des données\n",
    "- Quelle est la forme du DataFrame ?\n",
    "- Y a-t-il des valeurs manquantes ? Des doublons ?\n",
    "- Quelles colonnes vont nous être utiles ?\n",
    "\n",
    "### Qualité des données\n",
    "- Existe-t-il des incohérences ou des outliers ?\n",
    "- Y a-t-il des tweets anormalement courts ou longs ?\n",
    "\n",
    "### Analyse de la cible\n",
    "- Quelle est la répartition de la variable cible ?\n",
    "- En regardant des tweets aléatoires, la cible semble-t-elle prévisible ?\n",
    "\n",
    "## Plan d'analyse\n",
    "\n",
    "1. **Vérification de la structure** : Présence et types des colonnes (`text`, `target`)\n",
    "2. **Contrôle qualité** : Détection automatique de valeurs manquantes ou doublons\n",
    "3. **Validation des textes** : Vérification que tous les textes sont non-vides\n",
    "4. **Analyse des classes** : Validation du nombre de classes possibles\n",
    "5. **Statistiques textuelles** : Test sur les longueurs de texte (moyenne, min, max)"
   ]
  },
  {
   "cell_type": "code",
   "execution_count": null,
   "id": "4a0a7dd7",
   "metadata": {},
   "outputs": [],
   "source": []
  }
 ],
 "metadata": {
  "kernelspec": {
   "display_name": "general",
   "language": "python",
   "name": "python3"
  },
  "language_info": {
   "name": "python",
   "version": "3.12.7"
  }
 },
 "nbformat": 4,
 "nbformat_minor": 5
}
